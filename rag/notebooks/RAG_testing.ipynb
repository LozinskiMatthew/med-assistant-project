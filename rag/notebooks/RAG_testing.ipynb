{
 "cells": [
  {
   "metadata": {
    "ExecuteTime": {
     "end_time": "2025-07-13T09:02:58.700405Z",
     "start_time": "2025-07-13T09:02:58.693181Z"
    }
   },
   "cell_type": "code",
   "source": [
    "import os\n",
    "from typing import Annotated\n",
    "\n",
    "from dotenv import load_dotenv\n",
    "from pathlib import Path\n",
    "\n",
    "from jedi.inference.gradual.typing import TypedDict\n",
    "\n",
    "# Construct path two directories up from the **current working directory**\n",
    "env_path = Path.cwd().resolve().parents[1] / '.env'\n",
    "\n",
    "# Load .env from that path\n",
    "load_dotenv(dotenv_path=env_path)\n",
    "\n",
    "cohere_api_key = os.getenv('COHERE_API_KEY')\n",
    "if cohere_api_key is None:\n",
    "    raise ValueError(\"COHERE_API_KEY not set in .env\")\n",
    "\n",
    "#print(cohere_api_key)  # For debug only\n",
    "\n",
    "groq_api_key = os.getenv('GROQ_API_KEY')\n",
    "if groq_api_key is None:\n",
    "    raise ValueError(\"GROQ_API_KEY not set in .env\")\n",
    "\n",
    "# Optional: explicitly set in os.environ if required by libraries\n",
    "os.environ['COHERE_API_KEY'] = cohere_api_key\n",
    "os.environ['GROQ_API_KEY'] = groq_api_key\n"
   ],
   "id": "d1ca41fb1d9c0cc9",
   "outputs": [],
   "execution_count": 8
  },
  {
   "metadata": {
    "ExecuteTime": {
     "end_time": "2025-07-13T09:03:01.815509Z",
     "start_time": "2025-07-13T09:03:01.810021Z"
    }
   },
   "cell_type": "code",
   "source": [
    "import os\n",
    "\n",
    "# Starting from your current working directory\n",
    "base_dir = os.getcwd()  # or set explicitly\n",
    "\n",
    "user_id = 1 # In future I should get this via API\n",
    "\n",
    "# Build the path\n",
    "media_path = os.path.join(base_dir, \"media\", \"documents\", f\"user_{user_id}\")\n",
    "\n",
    "print(\"Full path:\", media_path)\n",
    "\n",
    "#with open(os.path.join(media_path, \"Lab0_Laravel11.pdf\")) as f:\n",
    "#    text = f.read()\n"
   ],
   "id": "4db7fab35b6984e0",
   "outputs": [
    {
     "name": "stdout",
     "output_type": "stream",
     "text": [
      "Full path: /home/matthew/Desktop/med-assistant-project/rag/notebooks/media/documents/user_1\n"
     ]
    }
   ],
   "execution_count": 9
  },
  {
   "metadata": {
    "ExecuteTime": {
     "end_time": "2025-07-13T09:03:04.857696Z",
     "start_time": "2025-07-13T09:03:04.258195Z"
    }
   },
   "cell_type": "code",
   "source": [
    "# Install the splitter module (if needed)\n",
    "# pip install -qU langchain-text-splitters\n",
    "\n",
    "from langchain_text_splitters import RecursiveCharacterTextSplitter\n",
    "\n",
    "print(media_path)\n",
    "\n",
    "# For testing in ipynb\n",
    "from langchain_community.document_loaders import PyPDFLoader\n",
    "\n",
    "loader = PyPDFLoader('/home/matthew/Desktop/med-assistant-project/backend/media/documents/user_1/Lab0_Laravel11.pdf')\n",
    "pages = loader.load()\n",
    "\n",
    "\n",
    "\n",
    "\n",
    "# Initialize the splitter\n",
    "text_splitter = RecursiveCharacterTextSplitter(\n",
    "    chunk_size=1800,         # max characters per chunk\n",
    "    chunk_overlap=300,       # overlap between chunks\n",
    "    length_function=len,    # use character count\n",
    "    separators=[\"\\n\\n\", \"\\n\", \" \", \"\"],  # split hierarchy\n",
    "    is_separator_regex=False\n",
    ")\n",
    "\n",
    "docs = text_splitter.split_documents(pages)\n",
    "\n",
    "# Inspect first couple of chunks:\n",
    "print(docs[7])\n"
   ],
   "id": "295457aceb92f0c6",
   "outputs": [
    {
     "name": "stdout",
     "output_type": "stream",
     "text": [
      "/home/matthew/Desktop/med-assistant-project/rag/notebooks/media/documents/user_1\n",
      "page_content='7 \n",
      "Zintegrowany Program Rozwoju Politechniki Lubelskiej – część druga \n",
      " \n",
      "Laravel Breeze  domyślnie generuje strony za pomocą wi doków Blade, ale m ożna \n",
      "skonfigurować go do wykorzystania widoków wykorzystujących Vue, React lub Inertia. \n",
      "Najprostsza konfiguracja korzysta z domyślego silnika widoków Blade.  Ten silnik oraz \n",
      "Breeze wskazaliśmy przy tworzeniu nowego projektu. \n",
      " \n",
      "Aby poprawnie działało uwierzytelnienie użytkownika, należy wykorzystać (utworzone już \n",
      "w tym celu przez Laravel) elementy związane z zapisem danych użytkownika w bazie danych \n",
      "(domyślnie MySQL) . W celu ustawienia połączenia do bazy danych, w pliku .env \n",
      "(w głównym folderze projektu) należy podać dane autoryzujące dostęp do bazy danych. Dla \n",
      "MySQL domyślne ustawienia w pliku .env (DB_CONNECTION, DB_HOST, itd.) są już \n",
      "gotowe (Rys. 12.8). \n",
      " \n",
      " \n",
      "Rys. 12.8. Domyślne ustawienia połączenia do bazy o nazwie lab12 na serwerze MySQL \n",
      "Korzystając z narzędzia phpMyAdmin utwórz nową bazę danych o nazwie lab12 (taka nazwa \n",
      "bazy podana jest jako domyślna w ustawieniu DB_DATABASE=lab12 (Rys. 12.8). \n",
      "Do pracy z bazą danych wykorzystamy tzw. migracje. Migracje to pliki wykonuj ące \n",
      "określone operacje na bazie danych, takie jak np. tworzenie tabel.  \n",
      "Pliki migracji  znajdują się w katalogu database/migrations. Laravel zadbał już o to, by \n",
      "utworzyć odpowiedni plik migracji dla tabeli użytkowników  users. Gotowe pliki migracji \n",
      "można podejrzeć w projekcie ( Rys. 12.9). Migracja z Rys. 12.9 tworzy tabelę users. Nazwy \n",
      "i typy pól tabeli (kolumn) zdefiniowano bezpośrednio z poziomu kodu w metodzie up() klasy \n",
      "o nazwie CreateUserTable, która dziedziczy po klasie Migration.' metadata={'producer': 'Microsoft® Word 2010', 'creator': 'Microsoft® Word 2010', 'creationdate': '2024-11-29T21:25:14+01:00', 'author': 'Marcel', 'moddate': '2024-11-29T21:25:14+01:00', 'source': '/home/matthew/Desktop/med-assistant-project/backend/media/documents/user_1/Lab0_Laravel11.pdf', 'total_pages': 30, 'page': 6, 'page_label': '7'}\n"
     ]
    }
   ],
   "execution_count": 10
  },
  {
   "metadata": {
    "ExecuteTime": {
     "end_time": "2025-07-09T12:54:18.607796Z",
     "start_time": "2025-07-09T12:54:18.604707Z"
    }
   },
   "cell_type": "code",
   "source": "type(docs[1])",
   "id": "ca0ae8bda60e8b48",
   "outputs": [
    {
     "data": {
      "text/plain": [
       "langchain_core.documents.base.Document"
      ]
     },
     "execution_count": 19,
     "metadata": {},
     "output_type": "execute_result"
    }
   ],
   "execution_count": 19
  },
  {
   "metadata": {
    "ExecuteTime": {
     "end_time": "2025-07-13T09:03:09.252978Z",
     "start_time": "2025-07-13T09:03:08.652188Z"
    }
   },
   "cell_type": "code",
   "source": [
    "import cohere\n",
    "\n",
    "co = cohere.ClientV2()\n",
    "\n",
    "text_inputs = [\n",
    "    {\n",
    "        \"content\": [\n",
    "            {\"type\": \"text\", \"text\": f\"{docs[7]}\"}\n",
    "        ]\n",
    "    },\n",
    "]\n",
    "\n",
    "response = co.embed(\n",
    "    inputs=text_inputs,\n",
    "    model=\"embed-v4.0\",\n",
    "    input_type=\"classification\",\n",
    "    embedding_types=[\"float\"],\n",
    ")\n",
    "print(response)\n"
   ],
   "id": "a261a2643522dadc",
   "outputs": [
    {
     "name": "stdout",
     "output_type": "stream",
     "text": [
      "id='88efc38d-224e-4254-ba35-867b9c2b943c' embeddings=EmbedByTypeResponseEmbeddings(float_=[[0.008361816, -0.0045776367, -0.018432617, 0.0021972656, 0.00075912476, -0.0061035156, -0.0034942627, 0.016967773, -0.017456055, 0.030273438, -0.039794922, 0.072265625, -0.05883789, 0.0012054443, -0.020874023, 0.004760742, -0.024169922, -0.008178711, 0.015197754, -0.0019302368, 0.05810547, -0.020385742, 0.0015106201, -0.02758789, 0.017456055, 0.0014038086, 0.02709961, 0.009643555, 0.032226562, -0.02734375, -0.007659912, -0.024291992, -0.001083374, 0.0061035156, -0.09033203, -0.010864258, 0.013000488, -0.040283203, -0.028930664, 0.012268066, -0.013061523, -0.008728027, 0.024536133, 0.032470703, -0.045410156, -0.010009766, 0.014160156, -0.016235352, -0.052246094, 0.00051498413, 0.020629883, 0.025756836, -0.006378174, -0.026855469, 0.04345703, 0.024047852, -0.0013046265, 0.003753662, -0.030273438, 0.02746582, -0.0032348633, 0.04711914, 0.04296875, -0.0009727478, -0.044433594, 0.010375977, -0.030395508, 0.0008583069, 0.022460938, 0.001663208, -0.005126953, -0.029052734, -0.022460938, 0.022460938, 0.017089844, -0.030883789, -0.0028533936, -0.046142578, -0.013183594, -0.024414062, 0.004699707, 0.027709961, 0.016601562, 0.04711914, 0.0037841797, -0.009399414, 0.004638672, 0.006072998, -0.016357422, 0.0154418945, 0.001914978, 0.009033203, -0.05419922, -0.006011963, 0.0061950684, 0.041748047, -0.0015640259, 0.01586914, 0.03466797, 0.00491333, 0.013916016, -0.00065231323, 0.0018005371, 0.021728516, -0.019897461, -0.024047852, -0.0007019043, 0.019165039, -0.022338867, -0.026000977, 0.0036773682, -0.025024414, -0.018920898, -0.04321289, -0.032226562, -0.006164551, 0.0017242432, -0.004425049, -0.028442383, -0.033203125, -0.019165039, 0.008422852, -0.030639648, 0.0011901855, 0.0154418945, 0.017456055, 0.024169922, 0.028320312, 0.017211914, -0.013977051, -0.017456055, 0.03955078, -0.0008430481, 0.006378174, -0.025512695, -0.030639648, 0.011779785, -0.0013580322, -0.0028076172, -0.022094727, -0.0075683594, 0.037109375, -0.026367188, 0.01977539, 0.03955078, 0.009277344, 0.010131836, -0.012207031, -0.017944336, 0.02746582, -0.03149414, 0.024658203, 0.012023926, -0.010192871, -0.016601562, 0.032470703, 0.032958984, 0.0008010864, -0.0036010742, -0.000114917755, 0.03149414, 0.008544922, 0.013671875, 0.024414062, 0.03564453, -0.025878906, 0.028320312, -0.0068969727, -0.005340576, -0.032714844, 0.006286621, -0.014892578, 0.00982666, -0.0037841797, 0.040527344, -0.022094727, -0.010070801, 0.014465332, 0.036132812, 0.006866455, 0.00077056885, -0.04711914, 5.6505203e-05, -0.011230469, 0.04345703, -0.0040283203, -0.028076172, 0.010498047, -0.0012664795, -0.015563965, -0.012268066, 0.029174805, -0.006958008, 0.043945312, 0.009887695, -0.0020446777, -0.025634766, -0.03173828, 0.018798828, 0.011352539, 0.020141602, -0.015991211, 0.007232666, -0.005218506, 0.03540039, -0.012268066, 0.00491333, 0.031982422, -0.00970459, 0.0041503906, -0.016723633, -0.01965332, -0.0016937256, -0.029907227, -0.004852295, 0.030395508, 0.030273438, -0.0033874512, 0.0043945312, -0.045898438, -0.033935547, 0.014709473, -0.0234375, -0.009399414, -0.000957489, -0.07080078, 0.0074768066, 0.032470703, 0.0546875, -0.011657715, 0.010864258, -0.0019683838, -0.061279297, 0.038085938, 0.007293701, -0.0069274902, -0.01171875, 0.02355957, -0.016967773, -0.020996094, -0.03515625, 0.010559082, -0.0006752014, 0.028442383, 0.044921875, -0.052246094, 0.04248047, -0.008605957, -0.040771484, -0.03857422, 0.026000977, 0.011047363, 0.016723633, -0.025268555, 0.018188477, 0.015197754, 0.0035705566, 0.0010070801, 0.026855469, 0.018310547, -0.034179688, -0.020751953, 0.0008010864, 0.0061950684, -0.0031280518, 0.041992188, 0.048828125, 0.042236328, -0.0035552979, 0.017089844, -0.028198242, 0.024536133, -0.011291504, 0.017333984, -0.026123047, 0.043945312, 0.0034942627, -0.019897461, 0.03881836, 0.003753662, 0.010070801, 0.035888672, -0.00982666, 0.026977539, 0.03564453, -0.008605957, 0.041259766, -0.020996094, -0.0049743652, 0.0025634766, 0.03149414, -0.006500244, -0.017578125, 0.010864258, -0.040283203, 0.014221191, -0.015197754, -0.010314941, -0.010314941, 0.022583008, 0.024658203, -0.02331543, -0.026489258, 0.018920898, -0.0019302368, -0.016235352, -0.017333984, 0.07373047, -0.006866455, -0.0013961792, 0.03112793, -0.015136719, 0.022338867, 0.0014724731, 0.020629883, -0.004272461, -0.034179688, 0.002090454, 0.015197754, -0.026245117, 0.0026550293, 0.008728027, -0.004058838, 0.012390137, 0.025634766, -0.008605957, 0.029296875, 0.049316406, 0.055908203, -0.03173828, -0.026611328, -0.018798828, 0.0025634766, -0.043701172, -0.047851562, -0.00970459, 0.01361084, -0.0035552979, 0.052978516, -0.017456055, -0.0019302368, -0.013183594, -0.017089844, 0.003829956, -0.022583008, 0.006958008, -0.03540039, -0.00046730042, 0.021972656, -0.016723633, -0.022338867, -0.03112793, -0.015136719, 0.028564453, -0.017456055, 0.037597656, -0.007507324, 0.011169434, -0.032226562, -0.006378174, 0.011230469, 0.008911133, 0.0020446777, -0.022827148, 0.01586914, -0.012329102, 0.008544922, -0.0087890625, -0.011291504, 0.045654297, -0.00579834, 0.0058898926, 0.0063171387, 0.001159668, -0.0040283203, -0.0015869141, 0.051757812, 0.032958984, 0.029174805, 0.0037841797, -0.028930664, 0.012268066, -0.002380371, 0.013244629, 0.026367188, 0.0012969971, -0.016845703, -0.031982422, 0.034179688, 0.012817383, 0.005279541, -0.012634277, -0.01586914, -0.032226562, -0.043701172, -0.038330078, -0.037109375, 0.008728027, -0.0012817383, -0.004211426, 0.014099121, 0.024047852, -0.011108398, 0.029541016, 0.0049438477, -0.021484375, 0.0032043457, -0.011230469, 0.014343262, 0.009521484, -0.0010070801, -0.045654297, -0.019897461, 0.0028076172, 0.0019989014, -0.045898438, 0.0051879883, -0.0019836426, 0.013305664, -0.0043640137, 0.006866455, -0.026000977, -0.0115356445, -0.015014648, 0.0058288574, -0.0115356445, 0.00579834, -0.06591797, 0.022094727, 0.052978516, -0.017089844, -0.001373291, -0.02319336, 0.015197754, 0.034423828, -0.0034637451, 0.003753662, -0.052246094, 0.010131836, 0.0068359375, -0.061279297, -0.0059814453, 0.014892578, 0.045410156, 0.024169922, -0.010498047, -0.028686523, 0.049560547, 0.016723633, -0.015014648, -0.013122559, 0.007293701, 0.0064697266, -0.003036499, 0.009765625, 0.020874023, 0.008117676, -0.014831543, 0.040527344, -0.023803711, 0.024047852, -0.018798828, -0.02746582, 0.006134033, -0.024658203, -0.0002975464, -0.0073547363, 0.014892578, 0.0040283203, -0.0008125305, 0.0073547363, 0.016601562, -0.028442383, -0.013916016, 0.045166016, -0.0054016113, -0.0018234253, 0.021728516, -0.019165039, 0.029907227, 0.056396484, 0.01977539, 0.00091934204, 0.027832031, 0.019165039, 0.021240234, -0.0079956055, -0.041748047, -0.026245117, 0.025146484, -0.006500244, -0.010131836, 0.0051879883, 0.009216309, 0.00793457, 0.022949219, 0.010192871, -0.0037231445, -0.010009766, -0.032470703, 0.010253906, -0.043945312, -0.037841797, 0.012817383, 0.018432617, -0.03515625, -0.044677734, 0.0046081543, 0.023803711, -0.014160156, 0.03881836, -0.002456665, 0.019042969, -0.0072021484, 0.008422852, 0.021728516, 0.021728516, 0.0026245117, 0.067871094, -0.019897461, 0.002532959, -0.016845703, 0.013000488, -0.0073242188, -0.011962891, -0.041992188, -0.034423828, -0.0107421875, 0.00031089783, -0.041015625, -0.0030975342, 0.008300781, 0.0059814453, -0.0042419434, -0.049072266, -0.002822876, -0.024047852, -0.03173828, 0.030883789, -0.03173828, -0.01940918, -0.0032806396, -0.019165039, 0.03173828, 0.11035156, -0.018920898, 0.024414062, -0.010070801, -0.018066406, 0.03466797, 0.04663086, 0.015563965, -0.019165039, 0.00793457, 0.0035705566, 0.06689453, -0.02331543, 0.0071105957, 0.040527344, 0.084472656, -0.029907227, -0.008483887, -0.03173828, 0.02734375, 0.0067749023, 0.044677734, 0.0077819824, 0.04248047, 0.021972656, -0.025878906, 0.007873535, 0.03149414, 0.036132812, -0.0026855469, -0.027954102, 0.02746582, 0.018310547, -0.0061950684, 0.028198242, -0.008178711, 0.0032653809, 0.014038086, 0.0030059814, -0.0073547363, -0.024536133, 0.008239746, 0.025634766, 0.020996094, 0.038085938, 0.009155273, 0.01171875, -0.01361084, 0.014709473, -0.044677734, -0.018798828, 0.020141602, 0.012023926, 0.00982666, 0.006500244, -0.05908203, -0.038085938, 0.0018310547, 0.007598877, -0.018798828, -0.02722168, -0.004547119, -0.030273438, -0.039794922, 0.045166016, 0.039794922, 0.028686523, 0.0025634766, 0.040527344, 0.035888672, 0.024047852, -0.03491211, -0.018798828, 0.033691406, 0.009094238, 0.012451172, 0.011230469, -0.03857422, -0.030883789, -0.016357422, 0.044189453, 0.03149414, 0.02758789, 0.028930664, 0.04296875, 0.02331543, 0.0011138916, 0.032714844, -0.045410156, 0.0035095215, -0.011291504, 0.030883789, 0.001625061, -0.03857422, -0.0032653809, 0.0029907227, -0.008728027, 0.0027160645, 0.030395508, 0.014892578, -0.0071411133, -0.03149414, -0.02319336, -0.011413574, 0.012878418, -0.03173828, 0.009460449, -0.022705078, -0.008728027, -0.06542969, 0.025146484, 0.0033874512, 0.021728516, -0.018920898, 0.02355957, 0.033691406, -0.01171875, 0.020263672, -0.00982666, -0.072265625, 0.0035705566, 0.024536133, -0.0010757446, -0.036132812, -0.0019836426, -0.041259766, 1.859665e-05, -0.004058838, -0.014892578, 0.009155273, -0.007293701, -0.03173828, 0.0016784668, -0.00012397766, 0.03955078, 0.010131836, 0.013305664, -0.032714844, 0.03491211, -0.01159668, -0.038085938, 2.7537346e-05, -0.020996094, 0.037597656, -0.033447266, -0.0048217773, -0.017089844, -0.025634766, -0.01361084, -0.025756836, -0.0071105957, -0.0023345947, 0.014160156, 0.024169922, -0.01977539, -0.018798828, -0.012207031, -0.014038086, 0.012390137, -0.016357422, -0.0059509277, -0.00077438354, 0.01171875, 0.018066406, -0.021728516, 0.0107421875, -0.022705078, -0.022705078, -0.063964844, 0.027832031, -0.0073242188, -0.020507812, -0.012817383, -0.051757812, 0.026123047, -0.024902344, -0.0012130737, 0.002456665, 0.021606445, -0.012512207, -0.01977539, -0.00011730194, -0.024414062, -0.0022888184, 0.00039863586, 0.044677734, 0.009216309, 0.04272461, -0.04345703, 0.0020141602, 0.029785156, -0.032226562, -0.021728516, -0.009521484, -0.0048828125, 0.0054626465, -0.007873535, -0.010070801, -0.05029297, -0.041015625, -0.00032615662, 0.03173828, -0.01171875, 0.008056641, 0.03930664, 0.020874023, -0.013061523, -0.026977539, 0.0062561035, 0.0052490234, 0.021850586, 0.009399414, -9.6321106e-05, -0.024169922, -0.024291992, -0.050048828, -0.03881836, 0.0069274902, -0.008483887, -0.006713867, 0.014160156, 0.008911133, 0.010864258, -0.049072266, -0.020629883, 0.0010757446, 0.021240234, -0.049316406, 0.014221191, 0.011230469, -0.020019531, 0.025878906, -0.01940918, 0.005218506, -0.009338379, 0.014343262, 0.006652832, -0.028808594, 0.028076172, 0.014587402, -0.051757812, 0.01977539, -0.0027313232, 0.026367188, 0.02319336, 0.0031738281, -0.010131836, 0.011657715, 0.011047363, 0.018798828, -0.041503906, 0.007598877, -0.024658203, 0.04345703, 0.091308594, 0.005218506, -0.016113281, -0.008178711, -0.025756836, 0.029663086, -0.02734375, 0.0028686523, -0.064941406, 0.010009766, -0.0077209473, -0.012268066, 0.068359375, -0.0107421875, -0.018432617, -0.022094727, 0.029174805, -0.003250122, 0.016479492, -0.0095825195, -0.032958984, -0.0107421875, 0.015197754, -0.004119873, -0.0037384033, -0.052490234, 0.014221191, 0.01940918, -0.00982666, 0.009460449, 0.00030899048, -0.010253906, 0.048095703, 0.043945312, 0.05859375, 0.045410156, -0.003250122, 0.055664062, 0.0032348633, -0.02722168, -0.02758789, -0.020385742, -0.0017471313, 0.007507324, -0.0023040771, -0.028564453, 0.010192871, -0.037353516, -0.0002632141, 0.015197754, 0.0069274902, 0.006866455, -0.01965332, 0.025024414, -0.015136719, 0.0056762695, -0.036132812, 0.009399414, -0.00031089783, 0.033691406, 0.020141602, 0.015991211, 0.012023926, 0.010131836, 0.009399414, -0.030883789, -0.0064086914, -0.016113281, 0.011291504, -9.4890594e-05, -0.036132812, 0.008666992, -0.07910156, 0.019042969, -0.0015640259, -0.008728027, -0.0065307617, -0.030883789, 0.020996094, 0.01574707, 0.0022735596, -0.04321289, -0.013427734, -0.025878906, -0.0026245117, 0.0028686523, 0.006713867, 0.01940918, 0.030639648, 0.02758789, 0.033691406, -0.030029297, -0.0062561035, 0.015136719, -0.0031280518, 0.015136719, -0.016235352, 0.06689453, 0.02355957, 0.037841797, -0.0126953125, 0.041503906, 0.045898438, 0.047607422, -0.055908203, -0.009643555, -0.07373047, -0.0038909912, 0.013427734, -0.052001953, 0.025146484, 0.00793457, 0.033935547, -0.016113281, -0.0067443848, 0.01586914, -0.017578125, -0.008666992, 0.04711914, -0.007873535, -0.010192871, 0.006439209, -0.064941406, 0.038085938, 0.0028839111, -0.014526367, -0.012023926, 0.008666992, -0.044433594, -0.0037231445, -0.026367188, 0.0016555786, -0.032958984, 0.024536133, 0.02734375, 0.04736328, 0.0069274902, 0.006591797, -0.027709961, 0.00592041, -0.030395508, 0.01940918, 0.01574707, 0.055908203, 0.013061523, -0.07910156, -0.009521484, 0.004699707, 0.040771484, -0.0025787354, -0.018188477, -0.008056641, 0.024780273, 0.027832031, 0.037841797, 0.032226562, 0.006286621, -0.0042419434, 0.00030326843, 0.0055236816, 0.00024318695, 0.016967773, 0.02758789, -0.0015182495, 0.06347656, -0.055908203, -0.023803711, 0.021728516, 0.060791016, 0.0119018555, -0.025146484, 0.017456055, -0.020996094, -0.03149414, -0.006958008, 0.021850586, -0.008605957, 0.01965332, 0.010314941, -0.010314941, 0.033447266, 0.009155273, 0.008178711, 0.0004043579, 0.024658203, -0.011108398, 0.008117676, -0.008239746, 0.031982422, -0.0049438477, 0.003112793, -0.008483887, -0.03881836, 0.0063476562, 0.020019531, -0.028198242, 0.016357422, 0.018676758, 0.0043640137, 0.014099121, -0.0005378723, 0.026489258, -0.013122559, -0.01940918, -0.0041503906, 0.0037384033, 0.002380371, 0.009277344, -0.001449585, -0.01928711, 0.0067443848, 0.026733398, 0.03564453, 0.01965332, 0.010803223, -0.040771484, 0.021240234, -0.03857422, 0.036621094, 0.022338867, -0.026855469, 0.059326172, -0.03857422, 0.011352539, -0.05419922, 0.00592041, 0.028564453, -0.0015182495, -0.007659912, 0.052246094, 0.01373291, -0.029541016, -0.024658203, -0.035888672, 0.006164551, 0.00592041, 0.01159668, -0.00021362305, 0.028930664, -0.013061523, -0.0029296875, -0.048828125, -0.017333984, 0.020874023, 0.033935547, -0.027709961, 0.024902344, -0.0023651123, 0.015319824, 0.01586914, 0.009765625, -0.022216797, 0.016723633, 7.05719e-05, -0.026000977, -0.0018539429, 0.010009766, 0.012756348, 0.039794922, -0.029907227, 0.03515625, -0.007873535, -0.006500244, 0.0027770996, -0.061767578, 0.061279297, -0.0138549805, -0.0032043457, 0.019042969, -0.03930664, 0.036865234, -0.046142578, -0.04345703, -0.0011367798, -0.059326172, -0.0546875, -0.015197754, -0.012268066, 0.014038086, 0.071777344, 0.010009766, -0.026367188, -0.006378174, -0.0087890625, 0.03930664, 0.0022277832, -0.007598877, -0.013305664, 0.0126953125, -0.0003299713, 0.024047852, 0.026000977, -0.061279297, -0.050048828, -0.008666992, 0.02746582, 0.020263672, -0.014465332, -0.01574707, -0.006439209, 0.043701172, 0.026611328, 0.021240234, 0.012207031, 0.016113281, 0.0033569336, 0.05419922, 0.011413574, 0.029785156, 0.036865234, -0.009521484, 0.014709473, 0.0066223145, 0.0032806396, 0.044433594, 0.036376953, 0.032958984, -0.0062561035, -0.0234375, 0.025634766, 0.029296875, 0.009338379, 0.030883789, -0.029541016, -0.017822266, -0.02331543, -0.018798828, -0.001335144, -0.029541016, -0.03112793, -0.04321289, -0.013793945, -0.015014648, -0.0028839111, -0.021484375, -0.03112793, 0.0007972717, 0.034423828, 0.05493164, 0.0023651123, 0.005432129, -0.012512207, 0.0119018555, 0.037841797, -0.012329102, -0.051513672, -0.021850586, 0.004547119, 0.0027618408, 0.010375977, 0.025634766, -0.008117676, 0.00075531006, -0.011047363, -0.010864258, -0.01965332, -0.025268555, 0.008911133, 0.0146484375, 0.005004883, 0.008544922, 0.03955078, 0.036865234, 0.08984375, 0.040283203, 0.0015335083, 0.043945312, 0.009155273, -0.01586914, 0.031982422, -0.003829956, 0.0057373047, 0.003616333, 0.021972656, -0.016723633, -0.01953125, 0.0234375, 0.012268066, 0.01928711, -0.008056641, 0.0016784668, 0.021118164, 0.014038086, 0.012390137, 0.008422852, 0.037841797, -0.025390625, 0.00016880035, 0.03955078, -0.084472656, 0.019042969, -0.04321289, -0.024902344, -0.017944336, 0.0099487305, -0.007446289, 0.040771484, 0.0008049011, 0.030395508, 0.009338379, -0.041992188, 0.017700195, 0.011352539, 0.031982422, -0.013793945, 0.057617188, -0.008117676, -0.0049438477, 0.016845703, -0.045654297, -0.01940918, 0.04663086, 0.0046081543, -0.004180908, -0.043701172, 0.044189453, -0.022827148, -0.022094727, 0.0067749023, 0.0022125244, -0.014282227, -0.008972168, 0.007659912, -0.018188477, -0.013061523, 0.017456055, -0.030395508, 0.0015029907, -0.01977539, -0.0030670166, 0.027954102, 0.06225586, -0.006134033, 0.0030517578, 0.04296875, 0.039794922, -0.01586914, 0.00021266937, -0.0020141602, -0.015136719, -0.026123047, -0.0053710938, -0.013183594, 0.033203125, -0.00592041, -0.009338379, -0.024169922, 0.011962891, -0.033935547, -0.030273438, 0.032714844, -0.006591797, 0.008544922, -0.01940918, -0.040283203, -0.024902344, 0.008728027, -0.037841797, -0.0134887695, 0.012268066, 0.0016555786, 0.0030670166, -0.015197754, -0.012756348, -0.0067443848, 0.01928711, 0.018554688, 0.008972168, -0.022827148, 0.018554688, -0.059326172, 0.0008430481, -0.025756836, 0.034423828, -0.007598877, -0.007385254, -0.014465332, 0.021484375, -0.03491211, -0.014770508, -4.5776367e-05, -0.024414062, 0.03540039, 0.004272461, 0.006713867, -0.000667572, -0.047851562, -0.0031738281, 0.0011367798, 0.0077819824, 0.033447266, 0.033203125, 0.010009766, -0.026489258, 0.016601562, -0.015197754, -0.0015411377, 0.0023040771, 0.008239746, -0.0067443848, 0.028320312, -0.028320312, 0.037353516, 0.02319336, -0.02355957, 0.02355957, -0.048095703, 0.013244629, 0.056396484, -0.0030059814, -0.014770508, -0.0028839111, -0.05493164, 0.005432129, -0.010131836, -0.01373291, -0.014892578, -0.0004386902, 0.01586914, 0.028930664, -0.003967285, -0.008728027, 0.00025558472, 0.028930664, -0.005218506, -0.005859375, 0.018920898, 0.018188477, -0.017333984, 0.024536133, 0.03173828, -0.032470703, 0.024047852, 0.0046081543, 0.045898438, -0.05126953, -0.020385742, -0.026367188, 0.014953613, 0.009155273, 0.012512207, -0.028686523, -0.010009766, 0.017944336, 0.008361816, 0.003112793, -0.026489258, 0.032470703, 0.0012359619, 0.0009918213, 0.051757812, 0.0059509277, 0.014282227, -0.026611328, -0.032958984, 0.018432617, -0.015563965, -0.034179688, 0.016845703, 0.0016021729, 0.03540039, -0.029052734, -0.010864258, 0.052734375, -0.053466797, -1.7523766e-05, 0.022705078, 0.030395508, -0.01953125, 0.044189453, 0.027832031, -0.021972656, -0.040771484, -0.019042969, -0.016967773, -0.018310547, 0.0018386841, -0.0025482178, 0.003967285, -0.018554688, 0.008117676, 0.026000977, 0.013916016, 0.006225586, 0.023925781, -0.0107421875, 0.0053710938, 0.018798828, -0.03881836, 0.004211426, -0.016723633, -0.01373291, 0.022216797, -0.016357422, 0.01940918, -0.0095825195, -0.011047363, 0.013183594, 0.008972168, -0.022583008, -0.049072266, -0.02368164, 0.06982422, -0.007507324, -0.034179688, 0.053466797, -0.034179688, 0.034179688, 0.023925781, 0.014892578, -0.015136719, -0.0032653809, 0.01928711, 0.0033721924, 0.0016021729, -0.05102539, -0.029296875, 0.012268066, 0.005004883, -0.00064086914, -0.0059814453, -0.010131836, 0.0051574707, 0.03491211, 0.0077209473, 0.017089844, 0.011779785, -0.0006904602, -0.03881836, -0.012023926, -0.012878418, -0.011657715, -0.024047852, 0.041748047, 0.0027770996, -0.048095703, -0.004638672, 0.026123047, -0.01159668, -0.07080078, -0.00970459, 0.001045227, -0.030395508, -0.018066406, -0.03149414, 0.0025939941, -0.03491211, 0.0079956055, -0.010620117, -0.00061798096, -0.0030822754, -0.0060424805, 0.018554688, -0.0008621216, 0.0027770996, -0.010864258, 0.021118164, 0.0011978149, 0.011413574, -0.013122559, -0.0029907227, -0.026733398, -0.022827148, 0.056152344, 0.0027160645, 0.0012817383, -0.001373291, -0.004333496, 0.025390625, -0.032958984, -0.017089844, -0.020019531, -0.016479492, -0.0018920898, 0.03540039, -0.029174805, -0.009460449, -0.0048217773, 0.0014572144, 0.026489258, -0.0021362305, -0.01159668, -3.2186508e-05, 0.00012302399, -0.016235352, -0.02319336, -0.030395508, 0.020996094, -0.00010061264, -0.020141602, 0.0077209473, -0.013427734, 0.0007324219, -0.00037956238, 0.023071289, 0.028442383, 0.026855469, -0.0063476562, -0.047851562, 0.01953125, -0.045654297, -0.013916016, -0.009765625, -0.006866455, -0.02746582, 4.053116e-05, -0.044921875, -0.04711914, -0.01965332, -0.036865234, 0.005004883, -0.0073242188, -0.02746582, 0.00018787384, -0.018554688, -0.033691406, -0.020263672, 0.0011978149, 0.07519531, 0.008117676, 0.0134887695, -0.009155273, -0.018798828, 0.016113281, 0.010620117, 0.01953125, 0.033935547, -0.017578125, -0.00982666, 0.022705078, 0.025268555, 0.03564453, 0.0010223389, -0.004425049, 0.017944336, -0.0072631836, -0.023071289, -0.0067749023]], int8=None, uint8=None, binary=None, ubinary=None) texts=None images=None meta=ApiMeta(api_version=ApiMetaApiVersion(version='2', is_deprecated=None, is_experimental=None), billed_units=ApiMetaBilledUnits(images=None, input_tokens=709.0, output_tokens=None, search_units=None, classifications=None, image_tokens=0), tokens=None, warnings=None) inputs=[{'content': [{'type': 'text', 'text': \"page_content='7 \\nZintegrowany Program Rozwoju Politechniki Lubelskiej – część druga \\n \\nLaravel Breeze  domyślnie generuje strony za pomocą wi doków Blade, ale m ożna \\nskonfigurować go do wykorzystania widoków wykorzystujących Vue, React lub Inertia. \\nNajprostsza konfiguracja korzysta z domyślego silnika widoków Blade.  Ten silnik oraz \\nBreeze wskazaliśmy przy tworzeniu nowego projektu. \\n \\nAby poprawnie działało uwierzytelnienie użytkownika, należy wykorzystać (utworzone już \\nw tym celu przez Laravel) elementy związane z zapisem danych użytkownika w bazie danych \\n(domyślnie MySQL) . W celu ustawienia połączenia do bazy danych, w pliku .env \\n(w głównym folderze projektu) należy podać dane autoryzujące dostęp do bazy danych. Dla \\nMySQL domyślne ustawienia w pliku .env (DB_CONNECTION, DB_HOST, itd.) są już \\ngotowe (Rys. 12.8). \\n \\n \\nRys. 12.8. Domyślne ustawienia połączenia do bazy o nazwie lab12 na serwerze MySQL \\nKorzystając z narzędzia phpMyAdmin utwórz nową bazę danych o nazwie lab12 (taka nazwa \\nbazy podana jest jako domyślna w ustawieniu DB_DATABASE=lab12 (Rys. 12.8). \\nDo pracy z bazą danych wykorzystamy tzw. migracje. Migracje to pliki wykonuj ące \\nokreślone operacje na bazie danych, takie jak np. tworzenie tabel.  \\nPliki migracji  znajdują się w katalogu database/migrations. Laravel zadbał już o to, by \\nutworzyć odpowiedni plik migracji dla tabeli użytkowników  users. Gotowe pliki migracji \\nmożna podejrzeć w projekcie ( Rys. 12.9). Migracja z Rys. 12.9 tworzy tabelę users. Nazwy \\ni typy pól tabeli (kolumn) zdefiniowano bezpośrednio z poziomu kodu w metodzie up() klasy \\no nazwie CreateUserTable, która dziedziczy po klasie Migration.' metadata={'producer': 'Microsoft® Word 2010', 'creator': 'Microsoft® Word 2010', 'creationdate': '2024-11-29T21:25:14+01:00', 'author': 'Marcel', 'moddate': '2024-11-29T21:25:14+01:00', 'source': '/home/matthew/Desktop/med-assistant-project/backend/media/documents/user_1/Lab0_Laravel11.pdf', 'total_pages': 30, 'page': 6, 'page_label': '7'}\"}]}] response_type='embeddings_by_type'\n"
     ]
    }
   ],
   "execution_count": 11
  },
  {
   "metadata": {
    "ExecuteTime": {
     "end_time": "2025-07-08T10:41:05.289142Z",
     "start_time": "2025-07-08T10:41:02.975058Z"
    }
   },
   "cell_type": "code",
   "outputs": [
    {
     "name": "stdout",
     "output_type": "stream",
     "text": [
      "Given 3 choices with higher randomness: \n",
      "\n",
      "Learning how to learn quicker is a valuable skill that can benefit you in many areas of life. Here are some effective strategies to help you learn quicker:\n",
      "\n",
      "1. **Set Clear Goals**: Before starting to learn, define what you want to achieve. Setting specific, measurable, and attainable goals will help you stay focused and motivated.\n",
      "2. **Use Active Recall**: Instead of just re-reading your notes, actively try to recall the information from memory. Quiz yourself, test your knowledge, and try to summarize what you've learned in your own words.\n",
      "3. **Spaced Repetition**: Review material at increasingly longer intervals to help solidify it in your long-term memory. This technique can help you retain information more effectively.\n",
      "4. **Chunking**: Break down complex information into smaller, manageable chunks. Organize these chunks into categories, create concept maps, or use mind maps to visualize relationships between ideas.\n",
      "5. **Mnemonics**: Use associations, acronyms, or rhymes to help you remember specific pieces of information. Create your own mnemonics or use existing ones to aid your memory.\n",
      "6. **Teach Someone Else**: Teaching someone else what you've learned can help you retain information better and identify areas where you need more practice. Find a study buddy or explain the material to a friend or family member.\n",
      "7. **Practice Active Learning**: Engage with the material by asking questions, discussing it with others, and applying what you've learned to real-world situations.\n",
      "8. **Get Enough Sleep**: Sleep plays a crucial role in memory consolidation. Ensure you get sufficient sleep to help your brain process and retain the information you've learned.\n",
      "9. **Use Multisensory Learning**: Use a combination of visual, auditory, and kinesthetic learning techniques to engage multiple senses and retain information more effectively.\n",
      "10. **Review and Reflect**: Regularly review what you've learned and reflect on what works best for you. Identify areas where you need improvement and adjust your approach accordingly.\n",
      "\n",
      "Additionally, consider the following general tips:\n",
      "\n",
      "* **Stay organized**: Keep all your study materials, including notes and schedules, organized and easily accessible.\n",
      "* **Minimize distractions**: Create a conducive learning environment by minimizing distractions, such as turning off your phone or finding a quiet space.\n",
      "* **Stay motivated**: Reward yourself for achieving small milestones, and remind yourself why you're learning in the first place.\n",
      "* **Use technology strategically**: Utilize digital tools, such as flashcard apps, language learning software, or online resources, to supplement your learning.\n",
      "\n",
      "Remember, everyone learns differently, so it's essential to experiment and find the techniques that work best for you. Be patient, stay consistent, and enjoy the process of learning and improvement!\n",
      "\n",
      "Which of these strategies resonates with you the most, or is there a specific area you'd like to focus on?\n"
     ]
    }
   ],
   "execution_count": 4,
   "source": [
    "from groq import Groq\n",
    "\n",
    "client = Groq()\n",
    "\n",
    "chat_completion = client.chat.completions.create(\n",
    "    messages=[\n",
    "        # Set an optional system message. This sets the behavior of the\n",
    "        # assistant and can be used to provide specific instructions for\n",
    "        # how it should behave throughout the conversation.\n",
    "        {\n",
    "            \"role\": \"system\",\n",
    "            \"content\": \"You are a doctor, explain things thoroughly, try to analyze which illness could the patient suffer from. and what's the best solution to resolve it.\"\n",
    "        },\n",
    "        # Set a user message for the assistant to respond to.\n",
    "        {\n",
    "            \"role\": \"user\",\n",
    "            \"content\": \"Teach me how to learn quicker\",\n",
    "        }\n",
    "    ],\n",
    "\n",
    "    # The language model which will generate the completion.\n",
    "    model=\"llama-3.3-70b-versatile\"\n",
    ")\n",
    "\n",
    "print(\"Given 3 choices with higher randomness: \\n\")\n",
    "num_choices = 3\n",
    "#for i in range(num_choices):\n",
    " #   print(chat_completion.choices[i].message.content)\n",
    "\n",
    "# Print the completion returned by the LLM.\n",
    "print(chat_completion.choices[0].message.content)"
   ],
   "id": "f0d56867bab16465"
  },
  {
   "metadata": {},
   "cell_type": "code",
   "outputs": [],
   "execution_count": null,
   "source": [
    "# Reranking the embeddings\n",
    "co_rerank = cohere.ClientV2()\n",
    "\n",
    "docs = [\n",
    "    \"Carson City is the capital city of the American state of Nevada.\",\n",
    "    \"The Commonwealth of the Northern Mariana Islands is a group of islands in the Pacific Ocean. Its capital is Saipan.\",\n",
    "    \"Capitalization or capitalisation in English grammar is the use of a capital letter at the start of a word. English usage varies from capitalization in other languages.\",\n",
    "    \"Washington, D.C. (also known as simply Washington or D.C., and officially as the District of Columbia) is the capital of the United States. It is a federal district.\",\n",
    "    \"Capital punishment has existed in the United States since beforethe United States was a country. As of 2017, capital punishment is legal in 30 of the 50 states.\",\n",
    "]\n",
    "\n",
    "response = co_rerank.rerank(\n",
    "    model=\"rerank-v3.5\",\n",
    "    query=\"What is the capital of the United States?\",\n",
    "    documents=docs,\n",
    "    top_n=3,\n",
    ")\n",
    "print(response)\n"
   ],
   "id": "4f6001bdf587c234"
  },
  {
   "metadata": {},
   "cell_type": "code",
   "outputs": [],
   "execution_count": null,
   "source": "",
   "id": "46214c9b57558de0"
  },
  {
   "metadata": {},
   "cell_type": "code",
   "outputs": [],
   "execution_count": null,
   "source": "",
   "id": "15e2e060163d5b00"
  },
  {
   "metadata": {
    "collapsed": true,
    "ExecuteTime": {
     "end_time": "2025-07-09T17:45:55.266526Z",
     "start_time": "2025-07-09T17:45:55.261571Z"
    }
   },
   "cell_type": "code",
   "source": [
    "\"\"\"\n",
    "from langchain.text_splitter import RecursiveCharacterTextSplitter\n",
    "from langchain_community.document_loaders import WebBaseLoader\n",
    "from langchain_community.vectorstores import FAISS\n",
    "\n",
    "urls = [\n",
    "    \"https://www.matthewlozinski.com/\",\n",
    "]\n",
    "\n",
    "docs = [WebBaseLoader(url).load() for url in urls]\n",
    "docs_list = [item for sublist in docs for item in sublist]\n",
    "\n",
    "text_splitter = RecursiveCharacterTextSplitter.from_tiktoken_encoder(\n",
    "    chunk_size=512, chunk_overlap=0\n",
    ")\n",
    "doc_splits = text_splitter.split_documents(docs_list)\n",
    "\n",
    "vectorstore = FAISS.from_documents(\n",
    "    documents=doc_splits,\n",
    "    embedding=co,\n",
    ")\n",
    "\n",
    "vectorstore_retriever = vectorstore.as_retriever()\n",
    "\"\"\""
   ],
   "id": "initial_id",
   "outputs": [
    {
     "data": {
      "text/plain": [
       "'\\nfrom langchain.text_splitter import RecursiveCharacterTextSplitter\\nfrom langchain_community.document_loaders import WebBaseLoader\\nfrom langchain_community.vectorstores import FAISS\\n\\nurls = [\\n    \"https://www.matthewlozinski.com/\",\\n]\\n\\ndocs = [WebBaseLoader(url).load() for url in urls]\\ndocs_list = [item for sublist in docs for item in sublist]\\n\\ntext_splitter = RecursiveCharacterTextSplitter.from_tiktoken_encoder(\\n    chunk_size=512, chunk_overlap=0\\n)\\ndoc_splits = text_splitter.split_documents(docs_list)\\n\\nvectorstore = FAISS.from_documents(\\n    documents=doc_splits,\\n    embedding=co,\\n)\\n\\nvectorstore_retriever = vectorstore.as_retriever()\\n'"
      ]
     },
     "execution_count": 20,
     "metadata": {},
     "output_type": "execute_result"
    }
   ],
   "execution_count": 20
  },
  {
   "metadata": {},
   "cell_type": "code",
   "outputs": [],
   "execution_count": null,
   "source": [
    "import os\n",
    "\n",
    "# Path to shared documents inside the container\n",
    "documents_path = \"/app/shared_documents/user_1\"\n",
    "\n",
    "# List files\n",
    "files = os.listdir(documents_path)\n",
    "\n",
    "# Print the list of files\n",
    "print(files)"
   ],
   "id": "1dd56887ed17044f"
  },
  {
   "metadata": {},
   "cell_type": "code",
   "outputs": [],
   "execution_count": null,
   "source": [
    "class State(TypedDict):\n",
    "    messages: Annotated[list, add_messages]"
   ],
   "id": "b155f83d403cdf2f"
  },
  {
   "metadata": {
    "ExecuteTime": {
     "end_time": "2025-07-13T06:05:55.427449Z",
     "start_time": "2025-07-13T06:05:54.459977Z"
    }
   },
   "cell_type": "code",
   "source": [
    "import faiss\n",
    "from langchain_community.docstore.in_memory import InMemoryDocstore\n",
    "from langchain_community.vectorstores import FAISS\n",
    "from langchain_cohere import CohereEmbeddings\n",
    "\n",
    "\n",
    "embeddings = CohereEmbeddings(model=\"embed-v4.0\")\n",
    "index = faiss.IndexFlatL2(len(embeddings.embed_query(\"hello world\")))\n",
    "\n",
    "vector_store = FAISS(\n",
    "    embedding_function=embeddings,\n",
    "    index=index,\n",
    "    docstore=InMemoryDocstore(), # It is in RAM, thus in future I will need to store it in Postgres container's volume\n",
    "    index_to_docstore_id={},\n",
    ")"
   ],
   "id": "61268017a194a1e7",
   "outputs": [],
   "execution_count": 7
  },
  {
   "metadata": {},
   "cell_type": "code",
   "outputs": [],
   "execution_count": null,
   "source": [
    "\n",
    "from IPython.display import Image, display\n",
    "\n",
    "#display(Image(graph.get_graph().draw_mermaid_png()))"
   ],
   "id": "f29475f60fc247ae"
  }
 ],
 "metadata": {
  "kernelspec": {
   "display_name": "Python 3",
   "language": "python",
   "name": "python3"
  },
  "language_info": {
   "codemirror_mode": {
    "name": "ipython",
    "version": 2
   },
   "file_extension": ".py",
   "mimetype": "text/x-python",
   "name": "python",
   "nbconvert_exporter": "python",
   "pygments_lexer": "ipython2",
   "version": "2.7.6"
  }
 },
 "nbformat": 4,
 "nbformat_minor": 5
}
